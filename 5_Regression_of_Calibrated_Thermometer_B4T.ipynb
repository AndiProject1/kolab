{
 "cells": [
  {
   "cell_type": "code",
   "execution_count": 25,
   "metadata": {},
   "outputs": [],
   "source": [
    "import numpy as np\n",
    "import pandas as pd\n",
    "import matplotlib.pyplot as plt\n",
    "import seaborn as sns\n",
    "import statsmodels.api as sm"
   ]
  },
  {
   "cell_type": "markdown",
   "metadata": {},
   "source": [
    "## 01. DATA GATHERING"
   ]
  },
  {
   "cell_type": "code",
   "execution_count": 26,
   "metadata": {},
   "outputs": [
    {
     "data": {
      "text/html": [
       "<div>\n",
       "<style scoped>\n",
       "    .dataframe tbody tr th:only-of-type {\n",
       "        vertical-align: middle;\n",
       "    }\n",
       "\n",
       "    .dataframe tbody tr th {\n",
       "        vertical-align: top;\n",
       "    }\n",
       "\n",
       "    .dataframe thead th {\n",
       "        text-align: right;\n",
       "    }\n",
       "</style>\n",
       "<table border=\"1\" class=\"dataframe\">\n",
       "  <thead>\n",
       "    <tr style=\"text-align: right;\">\n",
       "      <th></th>\n",
       "      <th>Tref</th>\n",
       "      <th>actual_value</th>\n",
       "      <th>kesalahan</th>\n",
       "      <th>ketidakpastian</th>\n",
       "    </tr>\n",
       "  </thead>\n",
       "  <tbody>\n",
       "    <tr>\n",
       "      <th>0</th>\n",
       "      <td>10</td>\n",
       "      <td>9.98</td>\n",
       "      <td>0.02</td>\n",
       "      <td>0.3</td>\n",
       "    </tr>\n",
       "    <tr>\n",
       "      <th>1</th>\n",
       "      <td>30</td>\n",
       "      <td>29.76</td>\n",
       "      <td>0.24</td>\n",
       "      <td>0.3</td>\n",
       "    </tr>\n",
       "    <tr>\n",
       "      <th>2</th>\n",
       "      <td>50</td>\n",
       "      <td>49.76</td>\n",
       "      <td>0.24</td>\n",
       "      <td>0.3</td>\n",
       "    </tr>\n",
       "    <tr>\n",
       "      <th>3</th>\n",
       "      <td>70</td>\n",
       "      <td>69.81</td>\n",
       "      <td>0.19</td>\n",
       "      <td>0.3</td>\n",
       "    </tr>\n",
       "    <tr>\n",
       "      <th>4</th>\n",
       "      <td>90</td>\n",
       "      <td>89.84</td>\n",
       "      <td>0.16</td>\n",
       "      <td>0.3</td>\n",
       "    </tr>\n",
       "    <tr>\n",
       "      <th>5</th>\n",
       "      <td>110</td>\n",
       "      <td>109.85</td>\n",
       "      <td>0.15</td>\n",
       "      <td>0.3</td>\n",
       "    </tr>\n",
       "  </tbody>\n",
       "</table>\n",
       "</div>"
      ],
      "text/plain": [
       "   Tref  actual_value  kesalahan  ketidakpastian\n",
       "0    10          9.98       0.02             0.3\n",
       "1    30         29.76       0.24             0.3\n",
       "2    50         49.76       0.24             0.3\n",
       "3    70         69.81       0.19             0.3\n",
       "4    90         89.84       0.16             0.3\n",
       "5   110        109.85       0.15             0.3"
      ]
     },
     "execution_count": 26,
     "metadata": {},
     "output_type": "execute_result"
    }
   ],
   "source": [
    "import pandas as pd\n",
    "\n",
    "# Read the file that has been merged in form of excel\n",
    "df = pd.read_excel(r\"C:\\#1 MyData\\Kalibrasi Labjack U6 Pro\\4b_calibrated_thermometer.xlsx\")\n",
    "\n",
    "# Dataframe of data\n",
    "df\n"
   ]
  },
  {
   "cell_type": "markdown",
   "metadata": {},
   "source": [
    "## 02. DATA CLEANING"
   ]
  },
  {
   "cell_type": "code",
   "execution_count": 27,
   "metadata": {},
   "outputs": [
    {
     "data": {
      "text/plain": [
       "(6, 4)"
      ]
     },
     "execution_count": 27,
     "metadata": {},
     "output_type": "execute_result"
    }
   ],
   "source": [
    "# Read information of the data shape (rows, coloumn)\n",
    "df.shape"
   ]
  },
  {
   "cell_type": "code",
   "execution_count": 28,
   "metadata": {},
   "outputs": [
    {
     "data": {
      "text/html": [
       "<div>\n",
       "<style scoped>\n",
       "    .dataframe tbody tr th:only-of-type {\n",
       "        vertical-align: middle;\n",
       "    }\n",
       "\n",
       "    .dataframe tbody tr th {\n",
       "        vertical-align: top;\n",
       "    }\n",
       "\n",
       "    .dataframe thead th {\n",
       "        text-align: right;\n",
       "    }\n",
       "</style>\n",
       "<table border=\"1\" class=\"dataframe\">\n",
       "  <thead>\n",
       "    <tr style=\"text-align: right;\">\n",
       "      <th></th>\n",
       "      <th>Tref</th>\n",
       "      <th>actual_value</th>\n",
       "      <th>kesalahan</th>\n",
       "      <th>ketidakpastian</th>\n",
       "    </tr>\n",
       "  </thead>\n",
       "  <tbody>\n",
       "    <tr>\n",
       "      <th>count</th>\n",
       "      <td>6.000000</td>\n",
       "      <td>6.000000</td>\n",
       "      <td>6.000000</td>\n",
       "      <td>6.0</td>\n",
       "    </tr>\n",
       "    <tr>\n",
       "      <th>mean</th>\n",
       "      <td>60.000000</td>\n",
       "      <td>59.833333</td>\n",
       "      <td>0.166667</td>\n",
       "      <td>0.3</td>\n",
       "    </tr>\n",
       "    <tr>\n",
       "      <th>std</th>\n",
       "      <td>37.416574</td>\n",
       "      <td>37.397415</td>\n",
       "      <td>0.081404</td>\n",
       "      <td>0.0</td>\n",
       "    </tr>\n",
       "    <tr>\n",
       "      <th>min</th>\n",
       "      <td>10.000000</td>\n",
       "      <td>9.980000</td>\n",
       "      <td>0.020000</td>\n",
       "      <td>0.3</td>\n",
       "    </tr>\n",
       "    <tr>\n",
       "      <th>25%</th>\n",
       "      <td>35.000000</td>\n",
       "      <td>34.760000</td>\n",
       "      <td>0.152500</td>\n",
       "      <td>0.3</td>\n",
       "    </tr>\n",
       "    <tr>\n",
       "      <th>50%</th>\n",
       "      <td>60.000000</td>\n",
       "      <td>59.785000</td>\n",
       "      <td>0.175000</td>\n",
       "      <td>0.3</td>\n",
       "    </tr>\n",
       "    <tr>\n",
       "      <th>75%</th>\n",
       "      <td>85.000000</td>\n",
       "      <td>84.832500</td>\n",
       "      <td>0.227500</td>\n",
       "      <td>0.3</td>\n",
       "    </tr>\n",
       "    <tr>\n",
       "      <th>max</th>\n",
       "      <td>110.000000</td>\n",
       "      <td>109.850000</td>\n",
       "      <td>0.240000</td>\n",
       "      <td>0.3</td>\n",
       "    </tr>\n",
       "  </tbody>\n",
       "</table>\n",
       "</div>"
      ],
      "text/plain": [
       "             Tref  actual_value  kesalahan  ketidakpastian\n",
       "count    6.000000      6.000000   6.000000             6.0\n",
       "mean    60.000000     59.833333   0.166667             0.3\n",
       "std     37.416574     37.397415   0.081404             0.0\n",
       "min     10.000000      9.980000   0.020000             0.3\n",
       "25%     35.000000     34.760000   0.152500             0.3\n",
       "50%     60.000000     59.785000   0.175000             0.3\n",
       "75%     85.000000     84.832500   0.227500             0.3\n",
       "max    110.000000    109.850000   0.240000             0.3"
      ]
     },
     "execution_count": 28,
     "metadata": {},
     "output_type": "execute_result"
    }
   ],
   "source": [
    "# Data description of its Statistics\n",
    "df.describe(include='all')"
   ]
  },
  {
   "cell_type": "code",
   "execution_count": 29,
   "metadata": {},
   "outputs": [
    {
     "data": {
      "text/html": [
       "<div>\n",
       "<style scoped>\n",
       "    .dataframe tbody tr th:only-of-type {\n",
       "        vertical-align: middle;\n",
       "    }\n",
       "\n",
       "    .dataframe tbody tr th {\n",
       "        vertical-align: top;\n",
       "    }\n",
       "\n",
       "    .dataframe thead th {\n",
       "        text-align: right;\n",
       "    }\n",
       "</style>\n",
       "<table border=\"1\" class=\"dataframe\">\n",
       "  <thead>\n",
       "    <tr style=\"text-align: right;\">\n",
       "      <th></th>\n",
       "      <th>Tref</th>\n",
       "      <th>actual_value</th>\n",
       "      <th>kesalahan</th>\n",
       "      <th>ketidakpastian</th>\n",
       "    </tr>\n",
       "  </thead>\n",
       "  <tbody>\n",
       "    <tr>\n",
       "      <th>0</th>\n",
       "      <td>10</td>\n",
       "      <td>9.98</td>\n",
       "      <td>0.02</td>\n",
       "      <td>0.3</td>\n",
       "    </tr>\n",
       "    <tr>\n",
       "      <th>1</th>\n",
       "      <td>30</td>\n",
       "      <td>29.76</td>\n",
       "      <td>0.24</td>\n",
       "      <td>0.3</td>\n",
       "    </tr>\n",
       "    <tr>\n",
       "      <th>2</th>\n",
       "      <td>50</td>\n",
       "      <td>49.76</td>\n",
       "      <td>0.24</td>\n",
       "      <td>0.3</td>\n",
       "    </tr>\n",
       "    <tr>\n",
       "      <th>3</th>\n",
       "      <td>70</td>\n",
       "      <td>69.81</td>\n",
       "      <td>0.19</td>\n",
       "      <td>0.3</td>\n",
       "    </tr>\n",
       "    <tr>\n",
       "      <th>4</th>\n",
       "      <td>90</td>\n",
       "      <td>89.84</td>\n",
       "      <td>0.16</td>\n",
       "      <td>0.3</td>\n",
       "    </tr>\n",
       "    <tr>\n",
       "      <th>5</th>\n",
       "      <td>110</td>\n",
       "      <td>109.85</td>\n",
       "      <td>0.15</td>\n",
       "      <td>0.3</td>\n",
       "    </tr>\n",
       "  </tbody>\n",
       "</table>\n",
       "</div>"
      ],
      "text/plain": [
       "   Tref  actual_value  kesalahan  ketidakpastian\n",
       "0    10          9.98       0.02             0.3\n",
       "1    30         29.76       0.24             0.3\n",
       "2    50         49.76       0.24             0.3\n",
       "3    70         69.81       0.19             0.3\n",
       "4    90         89.84       0.16             0.3\n",
       "5   110        109.85       0.15             0.3"
      ]
     },
     "execution_count": 29,
     "metadata": {},
     "output_type": "execute_result"
    }
   ],
   "source": [
    "# Numerical Data Check\n",
    "num_df = df.select_dtypes(include=['int64', 'float64'])\n",
    "num_df"
   ]
  },
  {
   "cell_type": "code",
   "execution_count": 30,
   "metadata": {},
   "outputs": [
    {
     "data": {
      "text/html": [
       "<div>\n",
       "<style scoped>\n",
       "    .dataframe tbody tr th:only-of-type {\n",
       "        vertical-align: middle;\n",
       "    }\n",
       "\n",
       "    .dataframe tbody tr th {\n",
       "        vertical-align: top;\n",
       "    }\n",
       "\n",
       "    .dataframe thead th {\n",
       "        text-align: right;\n",
       "    }\n",
       "</style>\n",
       "<table border=\"1\" class=\"dataframe\">\n",
       "  <thead>\n",
       "    <tr style=\"text-align: right;\">\n",
       "      <th></th>\n",
       "    </tr>\n",
       "  </thead>\n",
       "  <tbody>\n",
       "    <tr>\n",
       "      <th>0</th>\n",
       "    </tr>\n",
       "    <tr>\n",
       "      <th>1</th>\n",
       "    </tr>\n",
       "    <tr>\n",
       "      <th>2</th>\n",
       "    </tr>\n",
       "    <tr>\n",
       "      <th>3</th>\n",
       "    </tr>\n",
       "    <tr>\n",
       "      <th>4</th>\n",
       "    </tr>\n",
       "    <tr>\n",
       "      <th>5</th>\n",
       "    </tr>\n",
       "  </tbody>\n",
       "</table>\n",
       "</div>"
      ],
      "text/plain": [
       "Empty DataFrame\n",
       "Columns: []\n",
       "Index: [0, 1, 2, 3, 4, 5]"
      ]
     },
     "execution_count": 30,
     "metadata": {},
     "output_type": "execute_result"
    }
   ],
   "source": [
    "# Cathegorical Data Check\n",
    "\n",
    "cat_df = df.drop(num_df, axis = 1)\n",
    "cat_df"
   ]
  },
  {
   "cell_type": "code",
   "execution_count": 31,
   "metadata": {},
   "outputs": [
    {
     "data": {
      "text/html": [
       "<div>\n",
       "<style scoped>\n",
       "    .dataframe tbody tr th:only-of-type {\n",
       "        vertical-align: middle;\n",
       "    }\n",
       "\n",
       "    .dataframe tbody tr th {\n",
       "        vertical-align: top;\n",
       "    }\n",
       "\n",
       "    .dataframe thead th {\n",
       "        text-align: right;\n",
       "    }\n",
       "</style>\n",
       "<table border=\"1\" class=\"dataframe\">\n",
       "  <thead>\n",
       "    <tr style=\"text-align: right;\">\n",
       "      <th></th>\n",
       "      <th>kolom</th>\n",
       "      <th>dataType</th>\n",
       "      <th>null</th>\n",
       "      <th>nullPercentage</th>\n",
       "      <th>unique</th>\n",
       "      <th>values</th>\n",
       "    </tr>\n",
       "  </thead>\n",
       "  <tbody>\n",
       "    <tr>\n",
       "      <th>0</th>\n",
       "      <td>Tref</td>\n",
       "      <td>int64</td>\n",
       "      <td>0</td>\n",
       "      <td>0.0</td>\n",
       "      <td>6</td>\n",
       "      <td>[10, 30, 50, 70, 90, 110]</td>\n",
       "    </tr>\n",
       "    <tr>\n",
       "      <th>1</th>\n",
       "      <td>actual_value</td>\n",
       "      <td>float64</td>\n",
       "      <td>0</td>\n",
       "      <td>0.0</td>\n",
       "      <td>6</td>\n",
       "      <td>[9.98, 29.76, 49.76, 69.81, 89.84, 109.85]</td>\n",
       "    </tr>\n",
       "    <tr>\n",
       "      <th>2</th>\n",
       "      <td>kesalahan</td>\n",
       "      <td>float64</td>\n",
       "      <td>0</td>\n",
       "      <td>0.0</td>\n",
       "      <td>5</td>\n",
       "      <td>[0.02, 0.24, 0.19, 0.16, 0.15]</td>\n",
       "    </tr>\n",
       "    <tr>\n",
       "      <th>3</th>\n",
       "      <td>ketidakpastian</td>\n",
       "      <td>float64</td>\n",
       "      <td>0</td>\n",
       "      <td>0.0</td>\n",
       "      <td>1</td>\n",
       "      <td>[0.3]</td>\n",
       "    </tr>\n",
       "  </tbody>\n",
       "</table>\n",
       "</div>"
      ],
      "text/plain": [
       "            kolom dataType  null  nullPercentage  unique  \\\n",
       "0            Tref    int64     0             0.0       6   \n",
       "1    actual_value  float64     0             0.0       6   \n",
       "2       kesalahan  float64     0             0.0       5   \n",
       "3  ketidakpastian  float64     0             0.0       1   \n",
       "\n",
       "                                       values  \n",
       "0                   [10, 30, 50, 70, 90, 110]  \n",
       "1  [9.98, 29.76, 49.76, 69.81, 89.84, 109.85]  \n",
       "2              [0.02, 0.24, 0.19, 0.16, 0.15]  \n",
       "3                                       [0.3]  "
      ]
     },
     "execution_count": 31,
     "metadata": {},
     "output_type": "execute_result"
    }
   ],
   "source": [
    "# Summary Info of Data Information (Check Null, NaN, and Duplicates again)\n",
    "\n",
    "def check_values(df):\n",
    "    data = []\n",
    "    for col in df.columns:\n",
    "        data.append([col, \\\n",
    "                  df[col].dtype, \\\n",
    "                  df[col].isna().sum(), \\\n",
    "                  round(100*(df[col].isna().sum()/len(df)), 2), \\\n",
    "                  df[col].nunique(), \\\n",
    "                  df[col].unique()\n",
    "                  ])\n",
    "\n",
    "    return pd.DataFrame(columns=['kolom', 'dataType', 'null', 'nullPercentage', 'unique', 'values'], data=data)\n",
    "\n",
    "check_values(df)"
   ]
  },
  {
   "cell_type": "markdown",
   "metadata": {},
   "source": [
    "## 03. DATA PREPARATION"
   ]
  },
  {
   "cell_type": "code",
   "execution_count": 32,
   "metadata": {},
   "outputs": [
    {
     "data": {
      "text/html": [
       "<div>\n",
       "<style scoped>\n",
       "    .dataframe tbody tr th:only-of-type {\n",
       "        vertical-align: middle;\n",
       "    }\n",
       "\n",
       "    .dataframe tbody tr th {\n",
       "        vertical-align: top;\n",
       "    }\n",
       "\n",
       "    .dataframe thead th {\n",
       "        text-align: right;\n",
       "    }\n",
       "</style>\n",
       "<table border=\"1\" class=\"dataframe\">\n",
       "  <thead>\n",
       "    <tr style=\"text-align: right;\">\n",
       "      <th></th>\n",
       "      <th>Tref</th>\n",
       "      <th>actual_value</th>\n",
       "      <th>kesalahan</th>\n",
       "      <th>ketidakpastian</th>\n",
       "    </tr>\n",
       "  </thead>\n",
       "  <tbody>\n",
       "    <tr>\n",
       "      <th>0</th>\n",
       "      <td>10</td>\n",
       "      <td>9.98</td>\n",
       "      <td>0.02</td>\n",
       "      <td>0.3</td>\n",
       "    </tr>\n",
       "    <tr>\n",
       "      <th>1</th>\n",
       "      <td>30</td>\n",
       "      <td>29.76</td>\n",
       "      <td>0.24</td>\n",
       "      <td>0.3</td>\n",
       "    </tr>\n",
       "    <tr>\n",
       "      <th>2</th>\n",
       "      <td>50</td>\n",
       "      <td>49.76</td>\n",
       "      <td>0.24</td>\n",
       "      <td>0.3</td>\n",
       "    </tr>\n",
       "    <tr>\n",
       "      <th>3</th>\n",
       "      <td>70</td>\n",
       "      <td>69.81</td>\n",
       "      <td>0.19</td>\n",
       "      <td>0.3</td>\n",
       "    </tr>\n",
       "    <tr>\n",
       "      <th>4</th>\n",
       "      <td>90</td>\n",
       "      <td>89.84</td>\n",
       "      <td>0.16</td>\n",
       "      <td>0.3</td>\n",
       "    </tr>\n",
       "    <tr>\n",
       "      <th>5</th>\n",
       "      <td>110</td>\n",
       "      <td>109.85</td>\n",
       "      <td>0.15</td>\n",
       "      <td>0.3</td>\n",
       "    </tr>\n",
       "  </tbody>\n",
       "</table>\n",
       "</div>"
      ],
      "text/plain": [
       "   Tref  actual_value  kesalahan  ketidakpastian\n",
       "0    10          9.98       0.02             0.3\n",
       "1    30         29.76       0.24             0.3\n",
       "2    50         49.76       0.24             0.3\n",
       "3    70         69.81       0.19             0.3\n",
       "4    90         89.84       0.16             0.3\n",
       "5   110        109.85       0.15             0.3"
      ]
     },
     "execution_count": 32,
     "metadata": {},
     "output_type": "execute_result"
    }
   ],
   "source": [
    "df"
   ]
  },
  {
   "cell_type": "code",
   "execution_count": 33,
   "metadata": {},
   "outputs": [
    {
     "data": {
      "image/png": "[encoded data removed]",
      "text/plain": [
       "<Figure size 1200x400 with 1 Axes>"
      ]
     },
     "metadata": {},
     "output_type": "display_data"
    }
   ],
   "source": [
    "import matplotlib.pyplot as plt\n",
    "\n",
    "# List warna\n",
    "colors = ['red', 'green', 'blue']\n",
    "\n",
    "plt.figure(figsize=(12, 4))\n",
    "for i, (col, color) in enumerate(zip(['Tref'], colors), 1):\n",
    "    plt.subplot(1, 3, i)\n",
    "    plt.scatter(df[col], df['actual_value'], label=f'actual_value vs {col}', color=color)\n",
    "    plt.xlabel(col)\n",
    "    plt.ylabel('actual_value')\n",
    "    plt.title(f'actual_value vs {col}')\n",
    "    plt.grid(alpha=0.5, linestyle='--')\n",
    "\n",
    "plt.tight_layout()\n",
    "plt.show()\n"
   ]
  },
  {
   "cell_type": "markdown",
   "metadata": {},
   "source": [
    "## 04. Exploratory Data Analysis (EDA)"
   ]
  },
  {
   "cell_type": "code",
   "execution_count": 34,
   "metadata": {},
   "outputs": [
    {
     "data": {
      "image/png": "[encoded data removed]",
      "text/plain": [
       "<Figure size 1200x400 with 1 Axes>"
      ]
     },
     "metadata": {},
     "output_type": "display_data"
    }
   ],
   "source": [
    "import matplotlib.pyplot as plt\n",
    "\n",
    "# List warna\n",
    "colors = ['red', 'green', 'blue']\n",
    "\n",
    "plt.figure(figsize=(12, 4))\n",
    "for i, (col, color) in enumerate(zip(['Tref'], colors), 1):\n",
    "    plt.subplot(1, 3, i)\n",
    "    plt.scatter(df[col], df['actual_value'], label=f'actual_value vs {col}', color=color)\n",
    "    plt.xlabel(col)\n",
    "    plt.ylabel('actual_value')\n",
    "    plt.title(f'actual_value vs {col}')\n",
    "    plt.grid(alpha=0.5, linestyle='--')\n",
    "\n",
    "plt.tight_layout()\n",
    "plt.show()\n"
   ]
  },
  {
   "cell_type": "markdown",
   "metadata": {},
   "source": [
    "# 05. Data Modeling\n"
   ]
  },
  {
   "cell_type": "markdown",
   "metadata": {},
   "source": [
    "LINEAR REGRESSION (ORDE 1)"
   ]
  },
  {
   "cell_type": "code",
   "execution_count": 35,
   "metadata": {},
   "outputs": [
    {
     "name": "stdout",
     "output_type": "stream",
     "text": [
      "\n",
      "Regression for actual_value vs Tref (Order 1):\n",
      "Intercept  (β₀)    : -0.13580952381252\n",
      "Coefficient  (β₁)   : 0.99948571428575\n",
      "R-squared (R²)  : 1.00000\n"
     ]
    },
    {
     "data": {
      "image/png": "[encoded data removed]",
      "text/plain": [
       "<Figure size 600x400 with 1 Axes>"
      ]
     },
     "metadata": {},
     "output_type": "display_data"
    }
   ],
   "source": [
    "import numpy as np\n",
    "import matplotlib.pyplot as plt\n",
    "\n",
    "def least_squares_regression(X, Y):\n",
    "    # Menambahkan kolom ones untuk intercept (konstanta)\n",
    "    X_design = np.column_stack((np.ones(X.shape[0]), X))\n",
    "    # Menggunakan Least Squares dengan pseudo-inverse\n",
    "    p = np.linalg.pinv(X_design.T @ X_design) @ X_design.T @ Y\n",
    "    return p[0], p[1]  # Intercept, Coefficient\n",
    "\n",
    "# Warna untuk setiap variabel\n",
    "colors = {'Tref': 'red'}\n",
    "\n",
    "# Loop untuk regresi actual_value terhadap Tref\n",
    "for Ti in [\"Tref\"]:\n",
    "    print(f\"\\nRegression for actual_value vs {Ti} (Order 1):\")\n",
    "\n",
    "    X = df[Ti].values\n",
    "    Y = df[\"actual_value\"].values\n",
    "\n",
    "    # Regresi\n",
    "    intercept_LSM, coefficient_LSM = least_squares_regression(X, Y)\n",
    "\n",
    "    # Prediksi\n",
    "    Y_pred = intercept_LSM + coefficient_LSM * X\n",
    "\n",
    "    # Hitung R-squared\n",
    "    ss_res = np.sum((Y - Y_pred) ** 2)\n",
    "    ss_tot = np.sum((Y - np.mean(Y)) ** 2)\n",
    "    r_squared = 1 - (ss_res / ss_tot)\n",
    "\n",
    "    # Tampilkan hasil regresi dan R²\n",
    "    print(f\"Intercept  (β₀)    : {intercept_LSM:.14f}\")\n",
    "    print(f\"Coefficient  (β₁)   : {coefficient_LSM:.14f}\")\n",
    "    print(f\"R-squared (R²)  : {r_squared:.5f}\")\n",
    "\n",
    "    # Plot\n",
    "    plt.figure(figsize=(6, 4))\n",
    "    plt.scatter(X, Y, label=f\"Data: actual_value vs {Ti}\", color=colors[Ti])\n",
    "    X_plot = np.linspace(min(X), max(X), 100)\n",
    "    Y_plot = intercept_LSM + coefficient_LSM * X_plot\n",
    "    plt.plot(X_plot, Y_plot, color='black', label=f\"Linear Fit (R² = {r_squared:.5f})\")\n",
    "\n",
    "    plt.xlabel(Ti)\n",
    "    plt.ylabel(\"actual_value\")\n",
    "    plt.title(f\"actual_value vs {Ti} (Linear Regression)\")\n",
    "    plt.legend()\n",
    "    plt.grid(alpha=0.5, linestyle=\"--\")\n",
    "    plt.tight_layout()\n",
    "    plt.show()\n"
   ]
  },
  {
   "cell_type": "markdown",
   "metadata": {},
   "source": [
    "REGRESSION ORDE 2 (NON LINEAR)"
   ]
  },
  {
   "cell_type": "code",
   "execution_count": 36,
   "metadata": {},
   "outputs": [
    {
     "name": "stdout",
     "output_type": "stream",
     "text": [
      "\n",
      "Quadratic Regression for actual_value vs Tref:\n",
      "Intercept (β₀)       : 0.0021517860\n",
      "Linear Coef (β₁)     : 0.9926821428\n",
      "Quadratic Coef (β₂)  : 0.0000566964\n",
      "R-squared (R²)   : 1.00000\n"
     ]
    },
    {
     "data": {
      "image/png": "[encoded data removed]",
      "text/plain": [
       "<Figure size 600x400 with 1 Axes>"
      ]
     },
     "metadata": {},
     "output_type": "display_data"
    }
   ],
   "source": [
    "import numpy as np\n",
    "import matplotlib.pyplot as plt\n",
    "\n",
    "def quadratic_regression(X, Y):\n",
    "    # Menyusun X dengan orde 2: [1, X, X^2]\n",
    "    X_design = np.column_stack((np.ones(X.shape[0]), X, X**2))\n",
    "    # Hitung parameter regresi dengan Least Squares\n",
    "    p = np.linalg.pinv(X_design.T @ X_design) @ X_design.T @ Y\n",
    "    return p  # p[0]=intercept, p[1]=koef linear, p[2]=koef kuadratik\n",
    "\n",
    "# Warna untuk setiap kolom\n",
    "colors = {'Tref': 'red'}\n",
    "\n",
    "# Loop untuk Tref, T2, T3\n",
    "for Ti in ['Tref']:\n",
    "    print(f\"\\nQuadratic Regression for actual_value vs {Ti}:\")\n",
    "\n",
    "    X = df[Ti].values\n",
    "    Y = df['actual_value'].values\n",
    "\n",
    "    # Jalankan regresi orde 2\n",
    "    p = quadratic_regression(X, Y)\n",
    "\n",
    "    # Prediksi Y menggunakan model kuadratik\n",
    "    Y_pred = p[0] + p[1]*X + p[2]*X**2\n",
    "\n",
    "    # Hitung R-squared\n",
    "    ss_res = np.sum((Y - Y_pred)**2)\n",
    "    ss_tot = np.sum((Y - np.mean(Y))**2)\n",
    "    r_squared = 1 - (ss_res / ss_tot)\n",
    "\n",
    "    # Tampilkan hasil regresi\n",
    "    print(f\"Intercept (β₀)       : {p[0]:.10f}\")\n",
    "    print(f\"Linear Coef (β₁)     : {p[1]:.10f}\")\n",
    "    print(f\"Quadratic Coef (β₂)  : {p[2]:.10f}\")\n",
    "    print(f\"R-squared (R²)   : {r_squared:.5f}\")\n",
    "\n",
    "    # Plot\n",
    "    plt.figure(figsize=(6, 4))\n",
    "    plt.scatter(X, Y, color=colors[Ti], label=f'Data: actual_value vs {Ti}')\n",
    "\n",
    "    X_plot = np.linspace(X.min(), X.max(), 200)\n",
    "    Y_plot = p[0] + p[1]*X_plot + p[2]*X_plot**2\n",
    "    plt.plot(X_plot, Y_plot, color='black', label=f'Quadratic Fit (R² = {r_squared:.5f})')\n",
    "\n",
    "    plt.xlabel(Ti)\n",
    "    plt.ylabel('actual_value')\n",
    "    plt.title(f'actual_value vs {Ti} (Quadratic Regression)')\n",
    "    plt.legend()\n",
    "    plt.grid(alpha=0.5, linestyle='--')\n",
    "    plt.tight_layout()\n",
    "    plt.show()\n"
   ]
  },
  {
   "cell_type": "markdown",
   "metadata": {},
   "source": [
    "# 06. SUMMARY EQUATION FOR DAQFACTORY"
   ]
  },
  {
   "cell_type": "code",
   "execution_count": 37,
   "metadata": {},
   "outputs": [
    {
     "name": "stdout",
     "output_type": "stream",
     "text": [
      "Regression Model for Tref:\n",
      "------------------------------------------\n",
      "-0.13580952381252 + 0.99948571428575 * (T1[0])\n",
      "\n",
      "-0.13580952381252 + 0.99948571428575 * (T2[0])\n",
      "\n",
      "-0.13580952381252 + 0.99948571428575 * (T3[0])\n",
      "\n"
     ]
    }
   ],
   "source": [
    "# Equation for DaqFactory Using Linear Regression :\n",
    "\n",
    "for Ti in ['Tref']:\n",
    "    X = df[Ti].values\n",
    "    Y = df['actual_value'].values\n",
    "    p = least_squares_regression(X, Y)\n",
    "    print(f\"Regression Model for {Ti}:\")\n",
    "    print(f\"------------------------------------------\")\n",
    "    print(f\"{p[0]:.14f} + {p[1]:.14f} * (T1[0])\\n\")\n",
    "    print(f\"{p[0]:.14f} + {p[1]:.14f} * (T2[0])\\n\")\n",
    "    print(f\"{p[0]:.14f} + {p[1]:.14f} * (T3[0])\\n\")\n",
    "\n",
    "    "
   ]
  },
  {
   "cell_type": "code",
   "execution_count": 38,
   "metadata": {},
   "outputs": [
    {
     "name": "stdout",
     "output_type": "stream",
     "text": [
      "Regression Model for Tref:\n",
      "------------------------------------------\n",
      "Smooth((0.00215178599461 + (0.99268214284762 * (T1[0])) + (0.00005669642864 * ((T1[0])^2))),3)\n",
      "\n",
      "Smooth((0.00215178599461 + (0.99268214284762 * (T2[0])) + (0.00005669642864 * ((T2[0])^2))),3)\n",
      "\n",
      "Smooth((0.00215178599461 + (0.99268214284762 * (T3[0])) + (0.00005669642864 * ((T3[0])^2))),3)\n",
      "\n"
     ]
    }
   ],
   "source": [
    "# Equation for DaqFactory Using Non-Linear Regression (Orde 2) :\n",
    "\n",
    "for Ti in ['Tref']:\n",
    "    X = df[Ti].values\n",
    "    Y = df['actual_value'].values\n",
    "    p = quadratic_regression(X, Y)\n",
    "    print(f\"Regression Model for {Ti}:\")\n",
    "    print(f\"------------------------------------------\")\n",
    "    print(f\"Smooth(({p[0]:.14f} + ({p[1]:.14f} * (T1[0])) + ({p[2]:.14f} * ((T1[0])^2))),3)\\n\")\n",
    "    print(f\"Smooth(({p[0]:.14f} + ({p[1]:.14f} * (T2[0])) + ({p[2]:.14f} * ((T2[0])^2))),3)\\n\")\n",
    "    print(f\"Smooth(({p[0]:.14f} + ({p[1]:.14f} * (T3[0])) + ({p[2]:.14f} * ((T3[0])^2))),3)\\n\")\n",
    "\n",
    "    "
   ]
  },
  {
   "cell_type": "markdown",
   "metadata": {},
   "source": [
    "# CONFIDENCE INTERVAL 95% REGRESI DENGAN ALAT UKUR STANDAR"
   ]
  },
  {
   "cell_type": "code",
   "execution_count": 39,
   "metadata": {},
   "outputs": [
    {
     "name": "stdout",
     "output_type": "stream",
     "text": [
      "\n",
      "Quadratic Regression for actual_value vs Tref:\n",
      "Intercept (β₀)       : 0.0021517860\n",
      "Linear Coef (β₁)     : 0.9926821428\n",
      "Quadratic Coef (β₂)  : 0.0000566964\n",
      "Sigma^2 (variance)   : 0.0040269048\n",
      "R-squared (R²)       : 1.00000\n",
      "\n",
      "Prediksi dengan Confidence Interval:\n",
      "    Tref     y_pred   CI_lower   CI_upper  Interval (±)\n",
      "0     25  24.854641  24.736497  24.972784      0.118143\n",
      "1     30  29.833643  29.721720  29.945565      0.111922\n",
      "2     35  34.815480  34.703936  34.927024      0.111544\n",
      "3     40  39.800152  39.685517  39.914786      0.114635\n",
      "4     45  44.787658  44.668651  44.906666      0.119007\n",
      "5     50  49.778000  49.654921  49.901079      0.123079\n",
      "6     55  54.771176  54.645310  54.897043      0.125866\n",
      "7     60  59.767187  59.640338  59.894037      0.126849\n",
      "8     65  64.766033  64.640167  64.891900      0.125866\n",
      "9     70  69.767714  69.644635  69.890793      0.123079\n",
      "10    75  74.772230  74.653223  74.891237      0.119007\n",
      "11    80  79.779580  79.664946  79.894215      0.114635\n"
     ]
    },
    {
     "data": {
      "image/png": "[encoded data removed]",
      "text/plain": [
       "<Figure size 800x500 with 1 Axes>"
      ]
     },
     "metadata": {},
     "output_type": "display_data"
    }
   ],
   "source": [
    "import numpy as np\n",
    "import matplotlib.pyplot as plt\n",
    "import pandas as pd\n",
    "from scipy.stats import t\n",
    "\n",
    "def quadratic_regression(X, Y):\n",
    "    X_design = np.column_stack((np.ones(X.shape[0]), X, X**2))\n",
    "    p = np.linalg.pinv(X_design.T @ X_design) @ X_design.T @ Y\n",
    "    return p, X_design\n",
    "\n",
    "colors = {'Tref': 'red'}\n",
    "\n",
    "for Ti in ['Tref']:\n",
    "    print(f\"\\nQuadratic Regression for actual_value vs {Ti}:\")\n",
    "\n",
    "    X = df[Ti].values\n",
    "    Y = df['actual_value'].values\n",
    "\n",
    "    p, X_design = quadratic_regression(X, Y)\n",
    "\n",
    "    Y_pred = p[0] + p[1]*X + p[2]*X**2\n",
    "\n",
    "    residuals = Y - Y_pred\n",
    "    n = len(Y)\n",
    "    p_param = 3\n",
    "    sigma_hat_squared = np.sum(residuals**2) / (n - p_param)\n",
    "    sigma_hat = np.sqrt(sigma_hat_squared)\n",
    "\n",
    "    XtX_inv = np.linalg.pinv(X_design.T @ X_design)\n",
    "\n",
    "    X_plot = np.arange(25, 85, 5)  # 50 titik supaya tidak terlalu padat cetakannya\n",
    "    X_plot_design = np.column_stack((np.ones(X_plot.shape[0]), X_plot, X_plot**2))\n",
    "    Y_plot = p[0] + p[1]*X_plot + p[2]*X_plot**2\n",
    "\n",
    "    t_value = t.ppf(1 - 0.05/2, df=n - p_param)\n",
    "\n",
    "    margin_errors = []\n",
    "    for x0 in X_plot_design:\n",
    "        var_pred = sigma_hat_squared * (x0 @ XtX_inv @ x0.T)\n",
    "        margin_error = t_value * np.sqrt(var_pred)\n",
    "        margin_errors.append(margin_error)\n",
    "    margin_errors = np.array(margin_errors)\n",
    "\n",
    "    CI_lower = Y_plot - margin_errors\n",
    "    CI_upper = Y_plot + margin_errors\n",
    "    Interval_CI = (CI_upper-CI_lower)/2\n",
    "\n",
    "    ss_res = np.sum((Y - Y_pred)**2)\n",
    "    ss_tot = np.sum((Y - np.mean(Y))**2)\n",
    "    r_squared = 1 - (ss_res / ss_tot)\n",
    "\n",
    "    print(f\"Intercept (β₀)       : {p[0]:.10f}\")\n",
    "    print(f\"Linear Coef (β₁)     : {p[1]:.10f}\")\n",
    "    print(f\"Quadratic Coef (β₂)  : {p[2]:.10f}\")\n",
    "    print(f\"Sigma^2 (variance)   : {sigma_hat_squared:.10f}\")\n",
    "    print(f\"R-squared (R²)       : {r_squared:.5f}\")\n",
    "\n",
    "    # Buat DataFrame hasil prediksi dan CI supaya bisa lihat nilai-nilai numeriknya\n",
    "    df_CI = pd.DataFrame({\n",
    "        Ti: X_plot,\n",
    "        'y_pred': Y_plot,\n",
    "        'CI_lower': CI_lower,\n",
    "        'CI_upper': CI_upper,\n",
    "        'Interval (±)' : Interval_CI\n",
    "    })\n",
    "    print(\"\\nPrediksi dengan Confidence Interval:\")\n",
    "    print(df_CI)\n",
    "\n",
    "    plt.figure(figsize=(8, 5))\n",
    "    plt.scatter(X, Y, color=colors[Ti], label=f'Data: actual_value vs {Ti}', alpha=0.7)\n",
    "    plt.plot(X_plot, Y_plot, color='black', label=f'Quadratic Fit (R²={r_squared:.4f})')\n",
    "\n",
    "    # Plot area CI\n",
    "    plt.fill_between(X_plot, CI_lower, CI_upper, color='gray', alpha=0.3, label='95% Confidence Interval')\n",
    "\n",
    "    # Tambah garis batas CI supaya lebih jelas\n",
    "    plt.plot(X_plot, CI_lower, color='gray', linestyle='--', alpha=0.7)\n",
    "    plt.plot(X_plot, CI_upper, color='gray', linestyle='--', alpha=0.7)\n",
    "\n",
    "    plt.xlabel(Ti)\n",
    "    plt.ylabel('actual_value')\n",
    "    plt.title(f'actual_value vs {Ti} (Quadratic Regression with 95% CI)')\n",
    "    plt.legend()\n",
    "    plt.grid(alpha=0.5, linestyle='--')\n",
    "    plt.tight_layout()\n",
    "    plt.show()\n"
   ]
  },
  {
   "cell_type": "code",
   "execution_count": 40,
   "metadata": {},
   "outputs": [
    {
     "data": {
      "text/plain": [
       "np.float64(0.002151785994609412)"
      ]
     },
     "execution_count": 40,
     "metadata": {},
     "output_type": "execute_result"
    }
   ],
   "source": [
    "p[0]"
   ]
  },
  {
   "cell_type": "code",
   "execution_count": 41,
   "metadata": {},
   "outputs": [
    {
     "data": {
      "text/plain": [
       "np.float64(0.992682142847622)"
      ]
     },
     "execution_count": 41,
     "metadata": {},
     "output_type": "execute_result"
    }
   ],
   "source": [
    "p[1]"
   ]
  },
  {
   "cell_type": "code",
   "execution_count": 42,
   "metadata": {},
   "outputs": [
    {
     "data": {
      "text/plain": [
       "np.float64(5.6696428639008145e-05)"
      ]
     },
     "execution_count": 42,
     "metadata": {},
     "output_type": "execute_result"
    }
   ],
   "source": [
    "p[2]"
   ]
  },
  {
   "cell_type": "code",
   "execution_count": 43,
   "metadata": {},
   "outputs": [
    {
     "name": "stdout",
     "output_type": "stream",
     "text": [
      "23.4\n",
      "\n"
     ]
    }
   ],
   "source": [
    "tempbox = 23.5\n",
    "tempboxcalibrated = p[0] + p[1]*tempbox + p[2]*(tempbox**2)\n",
    "\n",
    "print(f\"{tempboxcalibrated:.1f}\\n\")"
   ]
  },
  {
   "cell_type": "code",
   "execution_count": 44,
   "metadata": {},
   "outputs": [
    {
     "name": "stdout",
     "output_type": "stream",
     "text": [
      "Hellow World\n"
     ]
    }
   ],
   "source": [
    "print(\"Hellow World\")"
   ]
  }
 ],
 "metadata": {
  "kernelspec": {
   "display_name": "Python 3",
   "language": "python",
   "name": "python3"
  },
  "language_info": {
   "codemirror_mode": {
    "name": "ipython",
    "version": 3
   },
   "file_extension": ".py",
   "mimetype": "text/x-python",
   "name": "python",
   "nbconvert_exporter": "python",
   "pygments_lexer": "ipython3",
   "version": "3.12.8"
  }
 },
 "nbformat": 4,
 "nbformat_minor": 2
}
