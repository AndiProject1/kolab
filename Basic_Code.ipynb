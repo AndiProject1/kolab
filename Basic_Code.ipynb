{
 "cells": [
  {
   "cell_type": "markdown",
   "id": "b3d8e83c",
   "metadata": {},
   "source": [
    "# 01. Menggunakan IF dan WHILE"
   ]
  },
  {
   "cell_type": "code",
   "execution_count": 2,
   "id": "ceb24a6e",
   "metadata": {},
   "outputs": [
    {
     "name": "stdout",
     "output_type": "stream",
     "text": [
      "Ini adalah statement if yang pertama\n",
      "Ini adalah statement if yang kedua\n"
     ]
    }
   ],
   "source": [
    "# If digunakan jika conditional statement nya memenuhi syarat, yang dipakai adalah Boolean\n",
    "\n",
    "if True:\n",
    "    print(\"Ini adalah statement if yang pertama\")\n",
    "\n",
    "# Atau bisa juga dengan variable\n",
    "x = 10\n",
    "if x > 5:\n",
    "    print(\"Ini adalah statement if yang kedua\")\n",
    "\n",
    "# Kalau misalnya conditional statement nya tidak memenuhi syarat, maka yang dipakai adalah else, jika tidak ada else, maka tidak akan ada output\n",
    "if x < 5:\n",
    "    print(\"Ini adalah statement if yang ketiga\")"
   ]
  },
  {
   "cell_type": "code",
   "execution_count": 6,
   "id": "d05e88b8",
   "metadata": {},
   "outputs": [
    {
     "name": "stdout",
     "output_type": "stream",
     "text": [
      "Nilai x adalah 10\n",
      "Nilai x adalah 9\n",
      "Nilai x adalah 8\n",
      "Nilai x adalah 7\n",
      "Nilai x adalah 6\n",
      "Nilai x adalah 5\n",
      "Nilai x adalah 4\n",
      "Nilai x adalah 3\n",
      "Nilai x adalah 2\n",
      "Nilai x adalah 1\n"
     ]
    }
   ],
   "source": [
    "# While digunakan jika kita ingin melakukan perulangan selama kondisi tertentu terpenuhi\n",
    "# Tapi pengulangannya infinite loop jika tidak ada kondisi yang mengurangi nilai dari x\n",
    "# Contoh berikut ini akan mencetak nilai x dari 10 sampai 0\n",
    "\n",
    "x = 10\n",
    "while x > 0:\n",
    "    print(f\"Nilai x adalah {x}\")\n",
    "    # Kondisi ini akan terus berjalan selama x lebih besar dari 0\n",
    "    # Untuk menghindari infinite loop, kita harus mengurangi nilai x setiap iterasi, maka :\n",
    "\n",
    "    x -= 1  # Mengurangi nilai x setiap iterasi, untuk membuat x menjadi 0 pada akhirnya / condtional statement tidak terpenuhi lagi\n",
    "\n"
   ]
  },
  {
   "cell_type": "code",
   "execution_count": 9,
   "id": "601e8f97",
   "metadata": {},
   "outputs": [
    {
     "name": "stdout",
     "output_type": "stream",
     "text": [
      "**********----------\n",
      "**********----------\n",
      "**********----------\n",
      "**********----------\n",
      "**********----------\n",
      "--------------------\n",
      "--------------------\n",
      "--------------------\n",
      "--------------------\n",
      "--------------------\n"
     ]
    }
   ],
   "source": [
    "# Contoh lain dari penggunaan while adalah untuk membuat bendera amerika\n",
    "\n",
    "first_counter = 0\n",
    "while first_counter < 5:\n",
    "    print(\"**********----------\")\n",
    "    first_counter += 1 \n",
    "\n",
    "second_counter = 0\n",
    "while second_counter < 5:\n",
    "    print(\"--------------------\")\n",
    "    second_counter += 1"
   ]
  },
  {
   "cell_type": "markdown",
   "id": "9267ea83",
   "metadata": {},
   "source": [
    "# 02. Menggunakan Fungsi LOOP"
   ]
  },
  {
   "cell_type": "code",
   "execution_count": 20,
   "id": "2b2dd661",
   "metadata": {},
   "outputs": [
    {
     "name": "stdout",
     "output_type": "stream",
     "text": [
      "**********----------\n",
      "**********----------\n",
      "**********----------\n",
      "**********----------\n",
      "**********----------\n",
      "--------------------\n",
      "--------------------\n",
      "--------------------\n",
      "--------------------\n",
      "   \n",
      "   \n",
      "11\n",
      "12\n",
      "13\n",
      "14\n",
      "15\n"
     ]
    }
   ],
   "source": [
    "# Loop menyederhanakan kode dari while\n",
    "for i in range(5):\n",
    "    print(\"**********----------\")\n",
    "\n",
    "\n",
    "for j in range(4):\n",
    "    print(\"--------------------\")\n",
    "\n",
    "print(\"   \")\n",
    "print(\"   \")\n",
    "\n",
    "\n",
    "revo = 11\n",
    "for k in range(5):\n",
    "    print(revo)\n",
    "    revo += 1\n"
   ]
  }
 ],
 "metadata": {
  "kernelspec": {
   "display_name": "Python 3",
   "language": "python",
   "name": "python3"
  },
  "language_info": {
   "codemirror_mode": {
    "name": "ipython",
    "version": 3
   },
   "file_extension": ".py",
   "mimetype": "text/x-python",
   "name": "python",
   "nbconvert_exporter": "python",
   "pygments_lexer": "ipython3",
   "version": "3.11.0"
  }
 },
 "nbformat": 4,
 "nbformat_minor": 5
}
